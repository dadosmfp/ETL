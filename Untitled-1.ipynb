{
 "cells": [
  {
   "cell_type": "code",
   "execution_count": null,
   "metadata": {},
   "outputs": [],
   "source": [
    "from modules.db import DatabaseConnection\n",
    "\n",
    "db = DatabaseConnection()\n",
    "\n",
    "db.connect()\n",
    "pedido = db.get_data_from_table('pedido')\n",
    "representante = db.get_data_from_table('representantes')\n",
    "meta = db.get_data_from_table('meta2023')\n"
   ]
  },
  {
   "cell_type": "code",
   "execution_count": null,
   "metadata": {},
   "outputs": [],
   "source": [
    "import pandas as pd\n",
    "\n",
    "merged_df = pd.merge(pedido, representante, left_on='codrepped_id', right_on='id_repres', how='left')"
   ]
  },
  {
   "cell_type": "code",
   "execution_count": null,
   "metadata": {},
   "outputs": [],
   "source": [
    "merged_df['razsocrep']= merged_df['razsocrep'].replace('WEBER REPRESENTAÇÕES', 'LEANDRO DACOREGIO WEBER')\n",
    "merged_df"
   ]
  },
  {
   "cell_type": "code",
   "execution_count": null,
   "metadata": {},
   "outputs": [],
   "source": [
    "# Converta a coluna de datas para o tipo datetime se ainda não estiver\n",
    "merged_df['dataped'] = pd.to_datetime(merged_df['dataped'])\n",
    "\n",
    "# Crie uma nova coluna 'mes' que contém o mês de cada data\n",
    "merged_df['mes'] = merged_df['dataped'].dt.month\n",
    "merged_df['ano'] = merged_df['dataped'].dt.year\n",
    "\n",
    "# Filtre o DataFrame para incluir apenas registros do ano de 2023\n",
    "merged_df = merged_df[merged_df['ano'] == 2023]\n",
    "\n",
    "# Agrupe as informações por mês e representante, somando os valores da coluna 'totalped'\n",
    "agrupado = merged_df.groupby(['mes', 'razsocrep']).agg({\n",
    "    'totalped': 'sum'\n",
    "}).reset_index()\n",
    "\n",
    "# Exiba as 20 primeiras linhas do DataFrame resultante\n",
    "print(agrupado.head(20))"
   ]
  },
  {
   "cell_type": "code",
   "execution_count": null,
   "metadata": {},
   "outputs": [],
   "source": [
    "meta.head(5)"
   ]
  },
  {
   "cell_type": "code",
   "execution_count": null,
   "metadata": {},
   "outputs": [],
   "source": [
    "# Converta a coluna de datas para o tipo datetime se ainda não estiver\n",
    "meta['mês'] = pd.to_datetime(meta['mês'])\n",
    "\n",
    "# Crie uma nova coluna 'mes' que contém o mês de cada data\n",
    "meta['mes'] = meta['mês'].dt.month\n",
    "\n",
    "# Agrupe as informações por mês e representante\n",
    "agrupado_meta = meta.groupby(['mes', 'representante']).agg({\n",
    "    'valor': 'sum',  # Substitua 'coluna1' e 'sua_funcao1' pelos nomes reais\n",
    "}).reset_index()\n",
    "\n",
    "agrupado_meta.head(5)"
   ]
  },
  {
   "cell_type": "code",
   "execution_count": null,
   "metadata": {},
   "outputs": [],
   "source": [
    "final_df = pd.merge(agrupado, agrupado_meta, left_on=['mes', 'razsocrep'], right_on=['mes', 'representante'], how='outer', suffixes=('_agrupado', '_agrupado_meta'))\n"
   ]
  },
  {
   "cell_type": "code",
   "execution_count": null,
   "metadata": {},
   "outputs": [],
   "source": [
    "final_df.head(20)"
   ]
  },
  {
   "cell_type": "code",
   "execution_count": null,
   "metadata": {},
   "outputs": [],
   "source": [
    "final_df['rep'] = final_df['razsocrep'].fillna(final_df['representante'])\n",
    "final_df.rename(columns={'totalped': 'realizado', 'valor':'meta', 'razsocrep': 'excluir', 'representante': 'excluir'}, inplace=True)\n",
    "final_df.drop('excluir', axis=1, inplace=True)"
   ]
  },
  {
   "cell_type": "code",
   "execution_count": null,
   "metadata": {},
   "outputs": [],
   "source": [
    "final_df.rename(columns={'rep': 'representante'}, inplace=True)\n",
    "ordem = ['mes', 'representante','realizado', 'meta']\n",
    "final_df = final_df[ordem]\n",
    "final_df"
   ]
  },
  {
   "cell_type": "code",
   "execution_count": null,
   "metadata": {},
   "outputs": [],
   "source": [
    "final_df.to_excel('output.xlsx', index=False)"
   ]
  },
  {
   "cell_type": "code",
   "execution_count": null,
   "metadata": {},
   "outputs": [],
   "source": []
  }
 ],
 "metadata": {
  "kernelspec": {
   "display_name": "venv",
   "language": "python",
   "name": "python3"
  },
  "language_info": {
   "codemirror_mode": {
    "name": "ipython",
    "version": 3
   },
   "file_extension": ".py",
   "mimetype": "text/x-python",
   "name": "python",
   "nbconvert_exporter": "python",
   "pygments_lexer": "ipython3",
   "version": "3.11.5"
  },
  "orig_nbformat": 4
 },
 "nbformat": 4,
 "nbformat_minor": 2
}
